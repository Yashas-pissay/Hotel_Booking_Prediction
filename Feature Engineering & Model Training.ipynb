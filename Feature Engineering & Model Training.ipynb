{
 "cells": [
  {
   "cell_type": "markdown",
   "id": "38a7825d",
   "metadata": {},
   "source": [
    "# Model Training\n",
    "\n",
    "\n",
    "### Feature Engineering\n",
    "\n",
    "#### Steps \n",
    "* Exploring Features of the dataset\n",
    "* Handling Missing Values\n",
    "* Feature Engineering\n",
    "* Feature Selection "
   ]
  },
  {
   "cell_type": "markdown",
   "id": "0eab20c0",
   "metadata": {},
   "source": [
    "#### Importing Packages and Libarires"
   ]
  },
  {
   "cell_type": "code",
   "execution_count": 1,
   "id": "739c5102",
   "metadata": {},
   "outputs": [
    {
     "name": "stdout",
     "output_type": "stream",
     "text": [
      "(119210, 31)\n"
     ]
    }
   ],
   "source": [
    "import pandas as pd\n",
    "import numpy as np\n",
    "import matplotlib.pyplot as plt\n",
    "import seaborn as sns\n",
    "import warnings\n",
    "warnings.filterwarnings(\"ignore\")\n",
    "pd.pandas.set_option(\"display.max_columns\", None)\n",
    "\n",
    "\n",
    "# Create Dataframe\n",
    "df = pd.read_csv(\"Cleaned_Hotel_boooking.csv\")\n",
    "\n",
    "# Print shape of dataset\n",
    "print(df.shape)"
   ]
  },
  {
   "cell_type": "markdown",
   "id": "3aae6955",
   "metadata": {},
   "source": [
    "# Data Cleaning and Data Transformation"
   ]
  },
  {
   "cell_type": "markdown",
   "id": "2ef2b212",
   "metadata": {},
   "source": [
    "#### Feature Extraction"
   ]
  },
  {
   "cell_type": "markdown",
   "id": "15c39ccc",
   "metadata": {},
   "source": [
    "* **Making new column named Total guests which is total visitors count**\n",
    "\n",
    "* **By doing this we also reducing the number of attributes in a dataset while keeping as much of the variation in the original dataset as possible**"
   ]
  },
  {
   "cell_type": "code",
   "execution_count": 2,
   "id": "57a5ece4",
   "metadata": {},
   "outputs": [],
   "source": [
    "# Making single guests coloumn which includes childern, Adult and babies counts\n",
    "\n",
    "df['total_guests'] = df['children'] + df['adults'] + df['babies'] # 3+2+2 = 7"
   ]
  },
  {
   "cell_type": "code",
   "execution_count": 3,
   "id": "3a8ae252",
   "metadata": {},
   "outputs": [],
   "source": [
    "# dropping children, adult, babies\n",
    "\n",
    "df.drop(['children','adults','babies'],axis= 1, inplace= True)"
   ]
  },
  {
   "cell_type": "markdown",
   "id": "c5649964",
   "metadata": {},
   "source": [
    "## Other Data Manipulation"
   ]
  },
  {
   "cell_type": "markdown",
   "id": "6a4604cb",
   "metadata": {},
   "source": [
    "* **Change the lead time from hours to days and rounding it off with 2 decimal points**"
   ]
  },
  {
   "cell_type": "code",
   "execution_count": 4,
   "id": "4b4a7082",
   "metadata": {},
   "outputs": [
    {
     "data": {
      "text/plain": [
       "<bound method IndexOpsMixin.value_counts of 0         342\n",
       "1         737\n",
       "2           7\n",
       "3          13\n",
       "4          14\n",
       "         ... \n",
       "119205     23\n",
       "119206    102\n",
       "119207     34\n",
       "119208    109\n",
       "119209    205\n",
       "Name: lead_time, Length: 119210, dtype: int64>"
      ]
     },
     "execution_count": 4,
     "metadata": {},
     "output_type": "execute_result"
    }
   ],
   "source": [
    "df['lead_time'].value_counts"
   ]
  },
  {
   "cell_type": "code",
   "execution_count": 5,
   "id": "8ac30840",
   "metadata": {},
   "outputs": [],
   "source": [
    "df['lead_time'] = (df['lead_time']/24).round(2)"
   ]
  },
  {
   "cell_type": "code",
   "execution_count": 6,
   "id": "9ab70e51",
   "metadata": {},
   "outputs": [
    {
     "data": {
      "text/plain": [
       "<bound method IndexOpsMixin.value_counts of 0         14.25\n",
       "1         30.71\n",
       "2          0.29\n",
       "3          0.54\n",
       "4          0.58\n",
       "          ...  \n",
       "119205     0.96\n",
       "119206     4.25\n",
       "119207     1.42\n",
       "119208     4.54\n",
       "119209     8.54\n",
       "Name: lead_time, Length: 119210, dtype: float64>"
      ]
     },
     "execution_count": 6,
     "metadata": {},
     "output_type": "execute_result"
    }
   ],
   "source": [
    "df['lead_time'].value_counts"
   ]
  },
  {
   "cell_type": "markdown",
   "id": "263f025b",
   "metadata": {},
   "source": [
    "* **Manual encoding hotels type and month coloum**"
   ]
  },
  {
   "cell_type": "markdown",
   "id": "f690d348",
   "metadata": {},
   "source": [
    "* **Handling the imbalance data**"
   ]
  },
  {
   "cell_type": "code",
   "execution_count": 7,
   "id": "6dc38285",
   "metadata": {},
   "outputs": [],
   "source": [
    "df['hotel'] = df['hotel'].map({'Resort Hotel':0, 'City Hotel':1})\n",
    "df['arrival_date_month'] = df['arrival_date_month'].map({'January':1, 'February': 2, 'March':3, 'April':4, 'May':5, 'June':6, 'July':7,\n",
    "                                                            'August':8, 'September':9, 'October':10, 'November':11, 'December':12})\n",
    "df['reserved_room_type'] = df['reserved_room_type'].map({'A': 0, 'B': 1, 'C': 2, 'D': 3, 'E': 4, 'F': 5, 'G': 6, 'H': 7, 'L': 8})"
   ]
  },
  {
   "cell_type": "markdown",
   "id": "bdc20be4",
   "metadata": {},
   "source": [
    "* **Replacing and remove Undefined features**"
   ]
  },
  {
   "cell_type": "code",
   "execution_count": 8,
   "id": "58be5f61",
   "metadata": {},
   "outputs": [
    {
     "data": {
      "text/plain": [
       "<bound method IndexOpsMixin.value_counts of 0                Direct\n",
       "1                Direct\n",
       "2                Direct\n",
       "3             Corporate\n",
       "4             Online TA\n",
       "              ...      \n",
       "119205    Offline TA/TO\n",
       "119206        Online TA\n",
       "119207        Online TA\n",
       "119208        Online TA\n",
       "119209        Online TA\n",
       "Name: market_segment, Length: 119210, dtype: object>"
      ]
     },
     "execution_count": 8,
     "metadata": {},
     "output_type": "execute_result"
    }
   ],
   "source": [
    "df['market_segment'].value_counts"
   ]
  },
  {
   "cell_type": "code",
   "execution_count": 9,
   "id": "b9e4e98b",
   "metadata": {},
   "outputs": [],
   "source": [
    "# Replacing the Undefined column to self catring (SC)\n",
    "\n",
    "df['meal'].replace(\"Undefined\", \"SC\", inplace= True)\n",
    "\n",
    "# Replace in market segment also\n",
    "\n",
    "df['market_segment'].replace('Undefined', 'Online TA', inplace= True)\n",
    "\n",
    "df.drop(df[df['distribution_channel']== 'Undefined'].index, inplace= True, axis= 0)"
   ]
  },
  {
   "cell_type": "code",
   "execution_count": 10,
   "id": "5cf9cb08",
   "metadata": {},
   "outputs": [
    {
     "data": {
      "text/plain": [
       "Index(['hotel', 'is_canceled', 'lead_time', 'arrival_date_year',\n",
       "       'arrival_date_month', 'arrival_date_week_number',\n",
       "       'arrival_date_day_of_month', 'stays_in_weekend_nights',\n",
       "       'stays_in_week_nights', 'meal', 'country', 'market_segment',\n",
       "       'distribution_channel', 'is_repeated_guest', 'previous_cancellations',\n",
       "       'previous_bookings_not_canceled', 'reserved_room_type',\n",
       "       'assigned_room_type', 'booking_changes', 'deposit_type', 'agent',\n",
       "       'days_in_waiting_list', 'customer_type', 'adr',\n",
       "       'required_car_parking_spaces', 'total_of_special_requests',\n",
       "       'reservation_status', 'reservation_status_date', 'total_guests'],\n",
       "      dtype='object')"
      ]
     },
     "execution_count": 10,
     "metadata": {},
     "output_type": "execute_result"
    }
   ],
   "source": [
    "df.columns"
   ]
  },
  {
   "cell_type": "markdown",
   "id": "a8b2674a",
   "metadata": {},
   "source": [
    "* **Based on the in-sights from EDA, we drop the coloumn which are not important to target feature**"
   ]
  },
  {
   "cell_type": "code",
   "execution_count": 11,
   "id": "e807557a",
   "metadata": {},
   "outputs": [],
   "source": [
    "df.drop(columns=['arrival_date_week_number',\"reservation_status\",\"reservation_status_date\",\n",
    "                 \"assigned_room_type\",'agent','required_car_parking_spaces', 'is_repeated_guest'], inplace=True, axis=1)"
   ]
  },
  {
   "cell_type": "markdown",
   "id": "6c27a5bc",
   "metadata": {},
   "source": [
    "#### Type of Features"
   ]
  },
  {
   "cell_type": "markdown",
   "id": "5dbbf9ea",
   "metadata": {},
   "source": [
    "* **Numerical Features**"
   ]
  },
  {
   "cell_type": "code",
   "execution_count": 12,
   "id": "51ebebf3",
   "metadata": {},
   "outputs": [
    {
     "name": "stdout",
     "output_type": "stream",
     "text": [
      "Num of num features : 16\n"
     ]
    }
   ],
   "source": [
    "num_features = [feature for feature in df.columns if df[feature].dtype != 'O']\n",
    "\n",
    "print(\"Num of num features :\", len(num_features))"
   ]
  },
  {
   "cell_type": "markdown",
   "id": "acc7a1ce",
   "metadata": {},
   "source": [
    "* **Catagorical Features**"
   ]
  },
  {
   "cell_type": "code",
   "execution_count": 13,
   "id": "8993aa66",
   "metadata": {},
   "outputs": [
    {
     "name": "stdout",
     "output_type": "stream",
     "text": [
      "Num of cat features : 6\n"
     ]
    }
   ],
   "source": [
    "cat_features = [feature for feature in df.columns if df[feature].dtypes == 'O']\n",
    "\n",
    "print(\"Num of cat features :\", len(cat_features))"
   ]
  },
  {
   "cell_type": "markdown",
   "id": "84807451",
   "metadata": {},
   "source": [
    "* **Discrete Features**"
   ]
  },
  {
   "cell_type": "code",
   "execution_count": 14,
   "id": "70ca73ad",
   "metadata": {},
   "outputs": [
    {
     "name": "stdout",
     "output_type": "stream",
     "text": [
      "Num of dis features : 10\n"
     ]
    }
   ],
   "source": [
    "discrete_features = [feature for feature in num_features if len(df[feature].unique())<=25]\n",
    "\n",
    "print(\"Num of dis features :\", len(discrete_features))"
   ]
  },
  {
   "cell_type": "code",
   "execution_count": 15,
   "id": "39113d88",
   "metadata": {},
   "outputs": [
    {
     "name": "stdout",
     "output_type": "stream",
     "text": [
      "Num of Year Features : 3\n"
     ]
    }
   ],
   "source": [
    "year_features=[feature for feature in df.columns if 'date' in feature or 'month' in feature]\n",
    "\n",
    "print('Num of Year Features :',len(year_features))"
   ]
  },
  {
   "cell_type": "markdown",
   "id": "5d327201",
   "metadata": {},
   "source": [
    "* **Continues Features**"
   ]
  },
  {
   "cell_type": "code",
   "execution_count": 16,
   "id": "2753db68",
   "metadata": {},
   "outputs": [
    {
     "name": "stdout",
     "output_type": "stream",
     "text": [
      "Num of contiues Features : 5\n"
     ]
    }
   ],
   "source": [
    "continues_feature = [feature for feature in num_features if feature not in discrete_features+year_features]\n",
    "\n",
    "print('Num of contiues Features :',len(continues_feature))"
   ]
  },
  {
   "cell_type": "markdown",
   "id": "18664c36",
   "metadata": {},
   "source": [
    "### Feature Selection"
   ]
  },
  {
   "cell_type": "markdown",
   "id": "e806be7b",
   "metadata": {},
   "source": [
    "* Multicollinearity occurs when there are two or more independent variables in a multiple regression model, which have a high correlation among themselves. When some features are highly correlated.\n",
    "* Multicollinearity can be detected using various techniques, one such technique being the Variance Inflation Factor(VIF)."
   ]
  },
  {
   "cell_type": "markdown",
   "id": "4a316055",
   "metadata": {},
   "source": [
    "Variance Inflation Factor(VIF) is a statistical measure used to access multicollinearity in regression analysis.\n",
    "Multicollinearity occurs when two or more independent variable in a regression model are highly correlated with each other, which can cause problems in interpreting the results.\n",
    "\n",
    "The VIF measures the degree of multicollinearity by quantifying how much the variance of the estimated regression coefficient is inflated comapred to what it would be if that variable were uncorrelated with other indepedent variable in the model.\n",
    "Specifically, the VIF for a particular independent variable is calcualted as the ratio of the variance of the estimated coefficient to the variance of the coefficient when there is no multicollinearity."
   ]
  },
  {
   "cell_type": "markdown",
   "id": "b408e305",
   "metadata": {},
   "source": [
    "Mathematically, the vif for the i-th variable can be calcualted as:\n",
    "\n",
    "VIF_i = 1 / ( 1 - R_i^2)"
   ]
  },
  {
   "cell_type": "code",
   "execution_count": 17,
   "id": "c44f8572",
   "metadata": {},
   "outputs": [],
   "source": [
    "from statsmodels.stats.outliers_influence import variance_inflation_factor\n",
    "def compute_vif(considered_feature, df):\n",
    "    \n",
    "    X = df[considered_feature]\n",
    "    # the calcualtion of variance inflation requires a constant\n",
    "    X['intercept'] = 1\n",
    "    \n",
    "    #create dataframe to store vif values\n",
    "    vif = pd.DataFrame()\n",
    "    vif['Variable'] = X.columns\n",
    "    vif[\"VIF\"] = [variance_inflation_factor(X.values, i) for i in range(X.shape[1])]\n",
    "    vif = vif[vif['Variable']!= 'intercept']\n",
    "    return vif\n"
   ]
  },
  {
   "cell_type": "code",
   "execution_count": 18,
   "id": "614ecf33",
   "metadata": {},
   "outputs": [
    {
     "data": {
      "text/html": [
       "<div>\n",
       "<style scoped>\n",
       "    .dataframe tbody tr th:only-of-type {\n",
       "        vertical-align: middle;\n",
       "    }\n",
       "\n",
       "    .dataframe tbody tr th {\n",
       "        vertical-align: top;\n",
       "    }\n",
       "\n",
       "    .dataframe thead th {\n",
       "        text-align: right;\n",
       "    }\n",
       "</style>\n",
       "<table border=\"1\" class=\"dataframe\">\n",
       "  <thead>\n",
       "    <tr style=\"text-align: right;\">\n",
       "      <th></th>\n",
       "      <th>Variable</th>\n",
       "      <th>VIF</th>\n",
       "    </tr>\n",
       "  </thead>\n",
       "  <tbody>\n",
       "    <tr>\n",
       "      <th>0</th>\n",
       "      <td>hotel</td>\n",
       "      <td>1.210034</td>\n",
       "    </tr>\n",
       "    <tr>\n",
       "      <th>1</th>\n",
       "      <td>is_canceled</td>\n",
       "      <td>1.213572</td>\n",
       "    </tr>\n",
       "    <tr>\n",
       "      <th>2</th>\n",
       "      <td>lead_time</td>\n",
       "      <td>1.272711</td>\n",
       "    </tr>\n",
       "    <tr>\n",
       "      <th>3</th>\n",
       "      <td>arrival_date_year</td>\n",
       "      <td>1.612115</td>\n",
       "    </tr>\n",
       "    <tr>\n",
       "      <th>4</th>\n",
       "      <td>arrival_date_month</td>\n",
       "      <td>1.546312</td>\n",
       "    </tr>\n",
       "    <tr>\n",
       "      <th>5</th>\n",
       "      <td>arrival_date_day_of_month</td>\n",
       "      <td>1.005525</td>\n",
       "    </tr>\n",
       "    <tr>\n",
       "      <th>6</th>\n",
       "      <td>stays_in_weekend_nights</td>\n",
       "      <td>1.345136</td>\n",
       "    </tr>\n",
       "    <tr>\n",
       "      <th>7</th>\n",
       "      <td>stays_in_week_nights</td>\n",
       "      <td>1.423576</td>\n",
       "    </tr>\n",
       "    <tr>\n",
       "      <th>8</th>\n",
       "      <td>previous_cancellations</td>\n",
       "      <td>1.067876</td>\n",
       "    </tr>\n",
       "    <tr>\n",
       "      <th>9</th>\n",
       "      <td>previous_bookings_not_canceled</td>\n",
       "      <td>1.054083</td>\n",
       "    </tr>\n",
       "    <tr>\n",
       "      <th>10</th>\n",
       "      <td>reserved_room_type</td>\n",
       "      <td>1.457513</td>\n",
       "    </tr>\n",
       "    <tr>\n",
       "      <th>11</th>\n",
       "      <td>booking_changes</td>\n",
       "      <td>1.034696</td>\n",
       "    </tr>\n",
       "    <tr>\n",
       "      <th>12</th>\n",
       "      <td>days_in_waiting_list</td>\n",
       "      <td>1.048397</td>\n",
       "    </tr>\n",
       "    <tr>\n",
       "      <th>13</th>\n",
       "      <td>adr</td>\n",
       "      <td>1.475413</td>\n",
       "    </tr>\n",
       "    <tr>\n",
       "      <th>14</th>\n",
       "      <td>total_of_special_requests</td>\n",
       "      <td>1.139973</td>\n",
       "    </tr>\n",
       "    <tr>\n",
       "      <th>15</th>\n",
       "      <td>total_guests</td>\n",
       "      <td>1.305558</td>\n",
       "    </tr>\n",
       "  </tbody>\n",
       "</table>\n",
       "</div>"
      ],
      "text/plain": [
       "                          Variable       VIF\n",
       "0                            hotel  1.210034\n",
       "1                      is_canceled  1.213572\n",
       "2                        lead_time  1.272711\n",
       "3                arrival_date_year  1.612115\n",
       "4               arrival_date_month  1.546312\n",
       "5        arrival_date_day_of_month  1.005525\n",
       "6          stays_in_weekend_nights  1.345136\n",
       "7             stays_in_week_nights  1.423576\n",
       "8           previous_cancellations  1.067876\n",
       "9   previous_bookings_not_canceled  1.054083\n",
       "10              reserved_room_type  1.457513\n",
       "11                 booking_changes  1.034696\n",
       "12            days_in_waiting_list  1.048397\n",
       "13                             adr  1.475413\n",
       "14       total_of_special_requests  1.139973\n",
       "15                    total_guests  1.305558"
      ]
     },
     "execution_count": 18,
     "metadata": {},
     "output_type": "execute_result"
    }
   ],
   "source": [
    "compute_vif(num_features, df)"
   ]
  },
  {
   "cell_type": "markdown",
   "id": "540cd415",
   "metadata": {},
   "source": [
    "* All the VIF values are relatively close to 1, which suggest that the variable are not highly correlated with each other.\n",
    "\n",
    "**NOTE :**\n",
    "* VIF values below 1.5, the variables in your model can be considered to have minimal multicollinearilty.\n",
    "* VIF values above 1.5 as indicative of multicollinearilty, while others may use a higher thershold, such as 2 or 2.5 --> in banking and finance Domain."
   ]
  },
  {
   "cell_type": "markdown",
   "id": "6dbd28ba",
   "metadata": {},
   "source": [
    "## Outlier Removal and Checking the Skewness"
   ]
  },
  {
   "cell_type": "markdown",
   "id": "fc6c1c5b",
   "metadata": {},
   "source": [
    "* For Skewed distributions: Use Inter-Quartile Range (IQR) proximity rule. IQR = Q3 - Q1\n",
    "\n",
    "* The data points which fall below Q1 – 1.5 IQR or above Q3 + 1.5 IQR are outliers.\n",
    "\n",
    "* where Q1 and Q3 are the 25th and 75th percentile of the dataset respectively, and IQR represents the inter-quartile range and given by Q3 – Q1."
   ]
  },
  {
   "cell_type": "code",
   "execution_count": 19,
   "id": "4e3315a2",
   "metadata": {
    "scrolled": false
   },
   "outputs": [
    {
     "data": {
      "image/png": "[encoded data removed]",
      "text/plain": [
       "<Figure size 1000x600 with 1 Axes>"
      ]
     },
     "metadata": {},
     "output_type": "display_data"
    },
    {
     "data": {
      "image/png": "[encoded data removed]",
      "text/plain": [
       "<Figure size 1000x600 with 1 Axes>"
      ]
     },
     "metadata": {},
     "output_type": "display_data"
    },
    {
     "data": {
      "image/png": "[encoded data removed]",
      "text/plain": [
       "<Figure size 1000x600 with 1 Axes>"
      ]
     },
     "metadata": {},
     "output_type": "display_data"
    },
    {
     "data": {
      "image/png": "[encoded data removed]",
      "text/plain": [
       "<Figure size 1000x600 with 1 Axes>"
      ]
     },
     "metadata": {},
     "output_type": "display_data"
    },
    {
     "data": {
      "image/png": "[encoded data removed]",
      "text/plain": [
       "<Figure size 1000x600 with 1 Axes>"
      ]
     },
     "metadata": {},
     "output_type": "display_data"
    }
   ],
   "source": [
    "for i in continues_feature:\n",
    "        plt.figure(figsize=(10,6))\n",
    "        sns.set_style('ticks')\n",
    "        ax = sns.boxplot(df[i])"
   ]
  },
  {
   "cell_type": "code",
   "execution_count": 20,
   "id": "eee75439",
   "metadata": {},
   "outputs": [],
   "source": [
    "def detect_outliers(col):\n",
    "    # Finding the IQR\n",
    "    percentile25 = df[col].quantile(0.25)\n",
    "    percentile75 = df[col].quantile(0.75)\n",
    "    \n",
    "    print('\\n -----', col, '-----')\n",
    "    \n",
    "    print('percentile25', percentile25)\n",
    "    print('percentile75', percentile75)\n",
    "    \n",
    "    iqr = percentile75 - percentile25 # IQR = Q3 - Q1\n",
    "    \n",
    "    upper_limit = percentile75 + 1.5 * iqr\n",
    "    lower_limit = percentile25 - 1.5 * iqr\n",
    "    \n",
    "    print('Upper Limit', upper_limit)\n",
    "    print('Lower Limit', lower_limit)\n",
    "    \n",
    "    df.loc[(df[col]>upper_limit), col]= upper_limit\n",
    "    df.loc[(df[col]<lower_limit), col]= lower_limit\n",
    "\n",
    "    return df"
   ]
  },
  {
   "cell_type": "code",
   "execution_count": 21,
   "id": "f9a3c3ee",
   "metadata": {},
   "outputs": [
    {
     "name": "stdout",
     "output_type": "stream",
     "text": [
      "\n",
      " ----- lead_time -----\n",
      "percentile25 0.75\n",
      "percentile75 6.71\n",
      "Upper Limit 15.649999999999999\n",
      "Lower Limit -8.19\n",
      "\n",
      " ----- stays_in_week_nights -----\n",
      "percentile25 1.0\n",
      "percentile75 3.0\n",
      "Upper Limit 6.0\n",
      "Lower Limit -2.0\n",
      "\n",
      " ----- previous_bookings_not_canceled -----\n",
      "percentile25 0.0\n",
      "percentile75 0.0\n",
      "Upper Limit 0.0\n",
      "Lower Limit 0.0\n",
      "\n",
      " ----- days_in_waiting_list -----\n",
      "percentile25 0.0\n",
      "percentile75 0.0\n",
      "Upper Limit 0.0\n",
      "Lower Limit 0.0\n",
      "\n",
      " ----- adr -----\n",
      "percentile25 69.5\n",
      "percentile75 126.0\n",
      "Upper Limit 210.75\n",
      "Lower Limit -15.25\n"
     ]
    }
   ],
   "source": [
    "for col in continues_feature:\n",
    "    detect_outliers(col)"
   ]
  },
  {
   "cell_type": "code",
   "execution_count": 22,
   "id": "b1d4ca19",
   "metadata": {
    "scrolled": false
   },
   "outputs": [
    {
     "data": {
      "image/png": "[encoded data removed]",
      "text/plain": [
       "<Figure size 1000x600 with 1 Axes>"
      ]
     },
     "metadata": {},
     "output_type": "display_data"
    },
    {
     "data": {
      "image/png": "[encoded data removed]",
      "text/plain": [
       "<Figure size 1000x600 with 1 Axes>"
      ]
     },
     "metadata": {},
     "output_type": "display_data"
    },
    {
     "data": {
      "image/png": "[encoded data removed]",
      "text/plain": [
       "<Figure size 1000x600 with 1 Axes>"
      ]
     },
     "metadata": {},
     "output_type": "display_data"
    },
    {
     "data": {
      "image/png": "[encoded data removed]",
      "text/plain": [
       "<Figure size 1000x600 with 1 Axes>"
      ]
     },
     "metadata": {},
     "output_type": "display_data"
    },
    {
     "data": {
      "image/png": "[encoded data removed]",
      "text/plain": [
       "<Figure size 1000x600 with 1 Axes>"
      ]
     },
     "metadata": {},
     "output_type": "display_data"
    }
   ],
   "source": [
    "for i in continues_feature:\n",
    "        plt.figure(figsize=(10,6))\n",
    "        sns.set_style('ticks')\n",
    "        ax = sns.boxplot(df[i])"
   ]
  },
  {
   "cell_type": "code",
   "execution_count": 23,
   "id": "4b7dda5b",
   "metadata": {},
   "outputs": [],
   "source": [
    "df.drop(['previous_bookings_not_canceled', 'days_in_waiting_list'], inplace=True, axis=1)"
   ]
  },
  {
   "cell_type": "markdown",
   "id": "49d438c3",
   "metadata": {},
   "source": [
    "* **Check Distribution of Lead Time coloumn**"
   ]
  },
  {
   "cell_type": "code",
   "execution_count": 24,
   "id": "d2b038f0",
   "metadata": {},
   "outputs": [
    {
     "data": {
      "text/plain": [
       "Text(0, 0.5, 'Density')"
      ]
     },
     "execution_count": 24,
     "metadata": {},
     "output_type": "execute_result"
    },
    {
     "data": {
      "image/png": "[encoded data removed]",
      "text/plain": [
       "<Figure size 1000x600 with 1 Axes>"
      ]
     },
     "metadata": {},
     "output_type": "display_data"
    }
   ],
   "source": [
    "plt.figure(figsize=(10,6))\n",
    "sns.set_style('ticks')\n",
    "sns.histplot(df['lead_time'], bins= 15, color= 'r', kde= True)\n",
    "plt.title('Distribution of lead time - Right Skewed', fontsize= 14, weight= 'bold')\n",
    "plt.xlabel('Lead time', weight= 'bold')\n",
    "plt.ylabel('Density', weight= 'bold')"
   ]
  },
  {
   "cell_type": "code",
   "execution_count": 25,
   "id": "87d9e214",
   "metadata": {},
   "outputs": [],
   "source": [
    "df[['lead_time']] = df[['lead_time']].apply(np.log1p) # Log Transformation to reduce the skewness of our data"
   ]
  },
  {
   "cell_type": "code",
   "execution_count": 26,
   "id": "364aed17",
   "metadata": {},
   "outputs": [
    {
     "data": {
      "text/plain": [
       "Text(0, 0.5, 'Density')"
      ]
     },
     "execution_count": 26,
     "metadata": {},
     "output_type": "execute_result"
    },
    {
     "data": {
      "image/png": "[encoded data removed]",
      "text/plain": [
       "<Figure size 1000x600 with 1 Axes>"
      ]
     },
     "metadata": {},
     "output_type": "display_data"
    }
   ],
   "source": [
    "plt.figure(figsize=(10,6))\n",
    "sns.set_style('ticks')\n",
    "sns.histplot(df['lead_time'], bins= 15, color= 'g', kde= True)\n",
    "plt.title('Distribution of lead time - After log Transfomation', fontsize= 14, weight= 'bold')\n",
    "plt.xlabel('Lead time', weight= 'bold')\n",
    "plt.ylabel('Density', weight= 'bold')"
   ]
  },
  {
   "cell_type": "code",
   "execution_count": 27,
   "id": "8ecef606",
   "metadata": {},
   "outputs": [],
   "source": [
    "df.dropna(inplace=True)"
   ]
  },
  {
   "cell_type": "markdown",
   "id": "56144dc0",
   "metadata": {},
   "source": [
    "### DataFrame Split\n"
   ]
  },
  {
   "cell_type": "markdown",
   "id": "e4c00312",
   "metadata": {},
   "source": [
    "* **Split Dataframe to X and y**"
   ]
  },
  {
   "cell_type": "markdown",
   "id": "69f28126",
   "metadata": {},
   "source": [
    "* **Here we set a variable X i.e, independent columns, and a variable y i.e, dependent column as the “is_canceled” column.**"
   ]
  },
  {
   "cell_type": "code",
   "execution_count": 28,
   "id": "73a85a28",
   "metadata": {},
   "outputs": [],
   "source": [
    "from sklearn.model_selection import train_test_split\n",
    "\n",
    "X = df.drop(['is_canceled'], axis=1)\n",
    "y = df['is_canceled']"
   ]
  },
  {
   "cell_type": "markdown",
   "id": "07e4b15f",
   "metadata": {},
   "source": [
    "* **Save this list of countries to use it in the app**"
   ]
  },
  {
   "cell_type": "code",
   "execution_count": 29,
   "id": "60939bff",
   "metadata": {},
   "outputs": [],
   "source": [
    "import pickle #Convert country code into the country name\n",
    "countries = list(X.country.unique())\n",
    "with open('countryname.pkl', 'wb') as handle:\n",
    "    pickle.dump(countries, handle)"
   ]
  },
  {
   "cell_type": "markdown",
   "id": "4ff98d55",
   "metadata": {},
   "source": [
    "* **Check all the coloumn which are in Train data set**"
   ]
  },
  {
   "cell_type": "code",
   "execution_count": 30,
   "id": "d3ff320f",
   "metadata": {},
   "outputs": [
    {
     "name": "stdout",
     "output_type": "stream",
     "text": [
      "['hotel', 'lead_time', 'arrival_date_year', 'arrival_date_month', 'arrival_date_day_of_month', 'stays_in_weekend_nights', 'stays_in_week_nights', 'meal', 'country', 'market_segment', 'distribution_channel', 'previous_cancellations', 'reserved_room_type', 'booking_changes', 'deposit_type', 'customer_type', 'adr', 'total_of_special_requests', 'total_guests']\n"
     ]
    },
    {
     "data": {
      "text/plain": [
       "19"
      ]
     },
     "execution_count": 30,
     "metadata": {},
     "output_type": "execute_result"
    }
   ],
   "source": [
    "all_coloumn = list(X.columns)\n",
    "print(all_coloumn)\n",
    "len(all_coloumn)"
   ]
  },
  {
   "cell_type": "markdown",
   "id": "92fd4b8c",
   "metadata": {},
   "source": [
    "#### Feature Encoding"
   ]
  },
  {
   "cell_type": "markdown",
   "id": "9fd7e738",
   "metadata": {},
   "source": [
    "* **Extracting catgorical features from train set for feature encoding**"
   ]
  },
  {
   "cell_type": "code",
   "execution_count": 31,
   "id": "0f40108a",
   "metadata": {},
   "outputs": [
    {
     "name": "stdout",
     "output_type": "stream",
     "text": [
      "No. of cat_features : 6\n"
     ]
    }
   ],
   "source": [
    "cat_features = [feature for feature in X.columns if X[feature].dtype == 'O']\n",
    "\n",
    "print('No. of cat_features :', len(cat_features))"
   ]
  },
  {
   "cell_type": "markdown",
   "id": "48e8859e",
   "metadata": {},
   "source": [
    "* **Checking for unique variables in each coloumn**\n"
   ]
  },
  {
   "cell_type": "code",
   "execution_count": 32,
   "id": "23c89f0a",
   "metadata": {},
   "outputs": [
    {
     "name": "stdout",
     "output_type": "stream",
     "text": [
      "meal : 4\n",
      "country : 177\n",
      "market_segment : 7\n",
      "distribution_channel : 4\n",
      "deposit_type : 3\n",
      "customer_type : 4\n"
     ]
    }
   ],
   "source": [
    "for feature in cat_features:\n",
    "    print(feature,\":\", X[feature].nunique())"
   ]
  },
  {
   "cell_type": "markdown",
   "id": "12db1665",
   "metadata": {},
   "source": [
    "### Pipeline for DataTransformation"
   ]
  },
  {
   "cell_type": "markdown",
   "id": "3631b0e3",
   "metadata": {},
   "source": [
    " **One Hot Encoding for Columns which had lesser unique values and not ordinal**"
   ]
  },
  {
   "cell_type": "markdown",
   "id": "1b7a49c0",
   "metadata": {},
   "source": [
    "* One hot encoding is a process by which categorical variables are converted into a form that could be provided to ML algorithms to do a better job in prediction."
   ]
  },
  {
   "cell_type": "markdown",
   "id": "c36eab30",
   "metadata": {},
   "source": [
    "\n",
    "**Binary Encoder is used for Country which had 170 unique values**\n",
    "* Binary encoding is a combination of Hash encoding and one-hot encoding. In this encoding scheme, the categorical feature is first converted into numerical using an ordinal encoder. Then the numbers are transformed in the binary number. After that binary value is split into different columns.\n",
    "\n",
    "* Binary encoding works really well when there are a high number of categories, Like Countries in our case"
   ]
  },
  {
   "cell_type": "code",
   "execution_count": null,
   "id": "54e3ad0d",
   "metadata": {},
   "outputs": [],
   "source": [
    "#!pip install category.encoders"
   ]
  },
  {
   "cell_type": "code",
   "execution_count": 33,
   "id": "38e9647f",
   "metadata": {},
   "outputs": [],
   "source": [
    "# create coloumn Transformer with 3 types of transformer\n",
    "\n",
    "from sklearn.preprocessing import OneHotEncoder, StandardScaler\n",
    "from sklearn.compose import ColumnTransformer\n",
    "from category_encoders.binary import BinaryEncoder\n",
    "num_features = [feature for feature in X.columns if X[feature].dtype != 'O']\n",
    "oh_columns = ['meal', 'market_segment', 'distribution_channel', 'deposit_type', 'customer_type']\n",
    "bin_columns = ['country']\n",
    "\n",
    "numeric_transformer = StandardScaler() # Standarzie all data in one format\n",
    "bin_transformer = BinaryEncoder()\n",
    "oh_transformer = OneHotEncoder()\n",
    "\n",
    "preprocessor = ColumnTransformer(\n",
    "    [\n",
    "        ('binary', bin_transformer, bin_columns),\n",
    "        ('oh', oh_transformer, oh_columns),\n",
    "        ('num', numeric_transformer, num_features)\n",
    "    ]\n",
    ")"
   ]
  },
  {
   "cell_type": "code",
   "execution_count": 34,
   "id": "46763158",
   "metadata": {},
   "outputs": [],
   "source": [
    "# Apply coloumn Transformer\n",
    "\n",
    "X = preprocessor.fit_transform(X)"
   ]
  },
  {
   "cell_type": "code",
   "execution_count": 35,
   "id": "7e4e7b5a",
   "metadata": {},
   "outputs": [
    {
     "data": {
      "text/plain": [
       "array([[ 0.        ,  0.        ,  0.        , ..., -2.26278444,\n",
       "        -0.72076524,  0.040073  ],\n",
       "       [ 0.        ,  0.        ,  0.        , ..., -2.26278444,\n",
       "        -0.72076524,  0.040073  ],\n",
       "       [ 0.        ,  0.        ,  0.        , ..., -0.57895841,\n",
       "        -0.72076524, -1.35098757],\n",
       "       ...,\n",
       "       [ 0.        ,  0.        ,  0.        , ...,  1.27796495,\n",
       "         4.32423173,  0.040073  ],\n",
       "       [ 0.        ,  0.        ,  0.        , ...,  0.0811014 ,\n",
       "        -0.72076524,  0.040073  ],\n",
       "       [ 0.        ,  0.        ,  0.        , ...,  1.13180885,\n",
       "         1.80173324,  0.040073  ]])"
      ]
     },
     "execution_count": 35,
     "metadata": {},
     "output_type": "execute_result"
    }
   ],
   "source": [
    "X"
   ]
  },
  {
   "cell_type": "code",
   "execution_count": 36,
   "id": "1c6ddb08",
   "metadata": {},
   "outputs": [],
   "source": [
    "import pickle\n",
    "pickle.dump(preprocessor, open('preprocess.pkl', 'wb'))"
   ]
  },
  {
   "cell_type": "markdown",
   "id": "3c592bdf",
   "metadata": {},
   "source": [
    "## Train Test Split"
   ]
  },
  {
   "cell_type": "code",
   "execution_count": 37,
   "id": "68f71984",
   "metadata": {},
   "outputs": [
    {
     "data": {
      "text/plain": [
       "((89403, 43), (29802, 43))"
      ]
     },
     "execution_count": 37,
     "metadata": {},
     "output_type": "execute_result"
    }
   ],
   "source": [
    "# Separate dataset into train and test\n",
    "\n",
    "X_train, X_test, y_train, y_test = train_test_split(X, y, test_size=0.25,random_state=40)\n",
    "\n",
    "X_train.shape, X_test.shape"
   ]
  },
  {
   "cell_type": "markdown",
   "id": "4590ded8",
   "metadata": {},
   "source": [
    "## Model Selection"
   ]
  },
  {
   "cell_type": "markdown",
   "id": "a40fefcb",
   "metadata": {},
   "source": [
    "* **Here should understand the Various Classification models with default values from these models we can choose top 4 with Highest Accuracy score and proceed with HyperParameter Tuning**"
   ]
  },
  {
   "cell_type": "code",
   "execution_count": 38,
   "id": "266a87f8",
   "metadata": {},
   "outputs": [],
   "source": [
    "from sklearn.naive_bayes import GaussianNB\n",
    "from sklearn.ensemble import RandomForestClassifier, GradientBoostingClassifier,AdaBoostClassifier\n",
    "from sklearn.linear_model import LogisticRegression\n",
    "from sklearn.neighbors import KNeighborsClassifier\n",
    "from sklearn.metrics import accuracy_score, classification_report, ConfusionMatrixDisplay, precision_score, recall_score,f1_score\n",
    "from sklearn.svm import SVC\n",
    "from sklearn.tree import DecisionTreeClassifier\n",
    "from xgboost import XGBClassifier\n",
    "from catboost import CatBoostClassifier"
   ]
  },
  {
   "cell_type": "code",
   "execution_count": 39,
   "id": "7f44f73c",
   "metadata": {
    "scrolled": false
   },
   "outputs": [
    {
     "name": "stdout",
     "output_type": "stream",
     "text": [
      "Random Forest\n",
      "Model performance for Training set\n",
      "- Accuracy: 0.9956\n",
      "- F1 score: 0.9956\n",
      "- Precision: 0.9946\n",
      "- Recall: 0.9935\n",
      "----------------------------------\n",
      "Model performance for Test set\n",
      "- Accuracy: 0.8822\n",
      "- F1 score: 0.8811\n",
      "- Precision: 0.8688\n",
      "- Recall: 0.7996\n",
      "===================================\n",
      "\n",
      "\n",
      "Navie Bayes\n",
      "Model performance for Training set\n",
      "- Accuracy: 0.7749\n",
      "- F1 score: 0.7554\n",
      "- Precision: 0.8594\n",
      "- Recall: 0.4721\n",
      "----------------------------------\n",
      "Model performance for Test set\n",
      "- Accuracy: 0.7807\n",
      "- F1 score: 0.7622\n",
      "- Precision: 0.8593\n",
      "- Recall: 0.4810\n",
      "===================================\n",
      "\n",
      "\n",
      "Gradient Boosting\n",
      "Model performance for Training set\n",
      "- Accuracy: 0.8365\n",
      "- F1 score: 0.8331\n",
      "- Precision: 0.8338\n",
      "- Recall: 0.7002\n",
      "----------------------------------\n",
      "Model performance for Test set\n",
      "- Accuracy: 0.8355\n",
      "- F1 score: 0.8322\n",
      "- Precision: 0.8255\n",
      "- Recall: 0.6993\n",
      "===================================\n",
      "\n",
      "\n",
      "Logisitic Regression\n",
      "Model performance for Training set\n",
      "- Accuracy: 0.8033\n",
      "- F1 score: 0.7971\n",
      "- Precision: 0.8028\n",
      "- Recall: 0.6247\n",
      "----------------------------------\n",
      "Model performance for Test set\n",
      "- Accuracy: 0.8016\n",
      "- F1 score: 0.7954\n",
      "- Precision: 0.7930\n",
      "- Recall: 0.6211\n",
      "===================================\n",
      "\n",
      "\n",
      "K-Neighbours Classifier\n",
      "Model performance for Training set\n",
      "- Accuracy: 0.8871\n",
      "- F1 score: 0.8864\n",
      "- Precision: 0.8670\n",
      "- Recall: 0.8226\n",
      "----------------------------------\n",
      "Model performance for Test set\n",
      "- Accuracy: 0.8338\n",
      "- F1 score: 0.8331\n",
      "- Precision: 0.7830\n",
      "- Recall: 0.7564\n",
      "===================================\n",
      "\n",
      "\n",
      "XGBClassifer\n",
      "Model performance for Training set\n",
      "- Accuracy: 0.8826\n",
      "- F1 score: 0.8815\n",
      "- Precision: 0.8737\n",
      "- Recall: 0.8002\n",
      "----------------------------------\n",
      "Model performance for Test set\n",
      "- Accuracy: 0.8628\n",
      "- F1 score: 0.8616\n",
      "- Precision: 0.8385\n",
      "- Recall: 0.7753\n",
      "===================================\n",
      "\n",
      "\n",
      "CatBoosting Classifier\n",
      "Model performance for Training set\n",
      "- Accuracy: 0.8838\n",
      "- F1 score: 0.8826\n",
      "- Precision: 0.8777\n",
      "- Recall: 0.7990\n",
      "----------------------------------\n",
      "Model performance for Test set\n",
      "- Accuracy: 0.8656\n",
      "- F1 score: 0.8644\n",
      "- Precision: 0.8448\n",
      "- Recall: 0.7763\n",
      "===================================\n",
      "\n",
      "\n",
      "AdaBoost Classifier\n",
      "Model performance for Training set\n",
      "- Accuracy: 0.8096\n",
      "- F1 score: 0.8041\n",
      "- Precision: 0.8086\n",
      "- Recall: 0.6397\n",
      "----------------------------------\n",
      "Model performance for Test set\n",
      "- Accuracy: 0.8093\n",
      "- F1 score: 0.8039\n",
      "- Precision: 0.8014\n",
      "- Recall: 0.6385\n",
      "===================================\n",
      "\n",
      "\n"
     ]
    }
   ],
   "source": [
    "models = {\n",
    "    \"Random Forest\": RandomForestClassifier(),\n",
    "    \"Navie Bayes\": GaussianNB(),\n",
    "    \"Gradient Boosting\": GradientBoostingClassifier(),\n",
    "    \"Logisitic Regression\": LogisticRegression(),\n",
    "    \"K-Neighbours Classifier\": KNeighborsClassifier(),\n",
    "    \"XGBClassifer\": XGBClassifier(),\n",
    "    \"CatBoosting Classifier\": CatBoostClassifier(verbose=False),\n",
    "    \"Support Vector Classifier\": SVC(),\n",
    "    \"AdaBoost Classifier\": AdaBoostClassifier() \n",
    "}\n",
    "\n",
    "for i in range(len(list(models))):\n",
    "    model = list(models.values())[i]\n",
    "    model.fit(X_train, y_train) # train model\n",
    "    \n",
    "    # make predictions\n",
    "    y_train_pred = model.predict(X_train)\n",
    "    y_test_pred = model.predict(X_test)\n",
    "    \n",
    "    # Training set performance\n",
    "    model_train_accuracy = accuracy_score(y_train, y_train_pred) # Calcualting the accuracy\n",
    "    model_train_f1 = f1_score(y_train, y_train_pred, average='weighted') # Calcualting f1 score\n",
    "    model_train_precision = precision_score(y_train, y_train_pred) # Calcualting Precision\n",
    "    model_train_recall = recall_score(y_train, y_train_pred) # Calcualting recall \n",
    "    \n",
    "    # Testing set performance\n",
    "    model_test_accuracy = accuracy_score(y_test, y_test_pred) # Calcualting the accuracy\n",
    "    model_test_f1 = f1_score(y_test, y_test_pred, average='weighted') # Calcualting f1 score\n",
    "    model_test_precision = precision_score(y_test, y_test_pred) # Calcualting Precision\n",
    "    model_test_recall = recall_score(y_test, y_test_pred) # Calcualting recall \n",
    "    \n",
    "    print(list(models.keys())[i])\n",
    "    \n",
    "        \n",
    "    print('Model performance for Training set')\n",
    "    print(\"- Accuracy: {:.4f}\".format(model_train_accuracy))\n",
    "    print('- F1 score: {:.4f}'.format(model_train_f1))\n",
    "    print('- Precision: {:.4f}'.format(model_train_precision))\n",
    "    print('- Recall: {:.4f}'.format(model_train_recall))\n",
    "    \n",
    "    print('----------------------------------')\n",
    "    \n",
    "    print('Model performance for Test set')\n",
    "    print('- Accuracy: {:.4f}'.format(model_test_accuracy))\n",
    "    print('- F1 score: {:.4f}'.format(model_test_f1))\n",
    "    print('- Precision: {:.4f}'.format(model_test_precision))\n",
    "    print('- Recall: {:.4f}'.format(model_test_recall))\n",
    "    \n",
    "    print('='*35)\n",
    "    print('\\n')\n",
    "    "
   ]
  },
  {
   "cell_type": "markdown",
   "id": "787c8183",
   "metadata": {},
   "source": [
    "### Hyper Parameter Tuning"
   ]
  },
  {
   "cell_type": "code",
   "execution_count": 40,
   "id": "3e75eeed",
   "metadata": {},
   "outputs": [],
   "source": [
    "knn_params = {\"n_neighbors\": [2, 3, 10, 20, 40, 50]}\n",
    "\n",
    "rf_params = {\"max_depth\": [5, 8, 15, None, 10],\n",
    "             \"max_features\": [5, 7, \"auto\", 8],\n",
    "             \"min_samples_split\": [2, 8, 15, 20],\n",
    "             \"n_estimators\": [100, 200, 500, 1000]}\n",
    "\n",
    "xgboost_params = {\"learning_rate\": [0.1, 0.01],\n",
    "                  \"max_depth\": [5, 8, 12, 20, 30],\n",
    "                  \"n_estimators\": [100, 200, 300],\n",
    "                  \"colsample_bytree\": [0.5, 0.8, 1, 0.3, 0.4]}\n",
    "\n",
    "cat_params = {\"learning_rate\": [0.1, 0.01],\n",
    "              \"max_depth\": [5, 8, 12, 20, 30]}"
   ]
  },
  {
   "cell_type": "code",
   "execution_count": 41,
   "id": "7f9c4d09",
   "metadata": {},
   "outputs": [],
   "source": [
    "randomcv_models = [('KNN', KNeighborsClassifier(), knn_params),\n",
    "                   (\"RF\", RandomForestClassifier(), rf_params),\n",
    "                   ('XGBoost', XGBClassifier(), xgboost_params),\n",
    "                   ('CatBoost', CatBoostClassifier(verbose=False), cat_params)\n",
    "                   ]"
   ]
  },
  {
   "cell_type": "code",
   "execution_count": 42,
   "id": "8dfdd3f1",
   "metadata": {},
   "outputs": [
    {
     "name": "stdout",
     "output_type": "stream",
     "text": [
      "Fitting 3 folds for each of 6 candidates, totalling 18 fits\n",
      "Fitting 3 folds for each of 100 candidates, totalling 300 fits\n",
      "Fitting 3 folds for each of 100 candidates, totalling 300 fits\n",
      "Fitting 3 folds for each of 10 candidates, totalling 30 fits\n",
      "---------------- Best Params for KNN -------------------\n",
      "{'n_neighbors': 10}\n",
      "---------------- Best Params for RF -------------------\n",
      "{'n_estimators': 1000, 'min_samples_split': 2, 'max_features': 8, 'max_depth': None}\n",
      "---------------- Best Params for XGBoost -------------------\n",
      "{'n_estimators': 300, 'max_depth': 12, 'learning_rate': 0.1, 'colsample_bytree': 0.4}\n",
      "---------------- Best Params for CatBoost -------------------\n",
      "{'max_depth': 12, 'learning_rate': 0.1}\n"
     ]
    }
   ],
   "source": [
    "from sklearn.model_selection import RandomizedSearchCV\n",
    "\n",
    "model_param = {}\n",
    "for name, model, params in randomcv_models:\n",
    "    rf_random = RandomizedSearchCV(estimator= model,\n",
    "                                   param_distributions= params,\n",
    "                                   n_iter=100,\n",
    "                                   cv= 3,\n",
    "                                   verbose= 2,\n",
    "                                   n_jobs= -1)\n",
    "    rf_random.fit(X_train, y_train)\n",
    "    model_param[name] = rf_random.best_params_\n",
    "\n",
    "for model_name in model_param:\n",
    "    print(f\"---------------- Best Params for {model_name} -------------------\")\n",
    "    print(model_param[model_name])"
   ]
  },
  {
   "cell_type": "markdown",
   "id": "9c3ac739",
   "metadata": {},
   "source": [
    "### Models Re-Trained with best Parameters"
   ]
  },
  {
   "cell_type": "code",
   "execution_count": 44,
   "id": "9e3cbd99",
   "metadata": {
    "scrolled": false
   },
   "outputs": [
    {
     "name": "stdout",
     "output_type": "stream",
     "text": [
      "Random Forest\n",
      "Model performance for Training set\n",
      "- Accuracy: 0.9956\n",
      "- F1 score: 0.9956\n",
      "- Precision: 0.9950\n",
      "- Recall: 0.9932\n",
      "- Roc Auc Score: 0.9951\n",
      "----------------------------------\n",
      "Model performance for Test set\n",
      "- Accuracy: 0.8841\n",
      "- F1 score: 0.8830\n",
      "- Precision: 0.8695\n",
      "- Recall: 0.8047\n",
      "- Roc Auc Score: 0.8674\n",
      "===================================\n",
      "\n",
      "\n",
      "K-Neighbors Classifer\n",
      "Model performance for Training set\n",
      "- Accuracy: 0.8641\n",
      "- F1 score: 0.8610\n",
      "- Precision: 0.8812\n",
      "- Recall: 0.7335\n",
      "- Roc Auc Score: 0.8374\n",
      "----------------------------------\n",
      "Model performance for Test set\n",
      "- Accuracy: 0.8367\n",
      "- F1 score: 0.8334\n",
      "- Precision: 0.8271\n",
      "- Recall: 0.7013\n",
      "- Roc Auc Score: 0.8082\n",
      "===================================\n",
      "\n",
      "\n",
      "XGBClassifier\n",
      "Model performance for Training set\n",
      "- Accuracy: 0.9731\n",
      "- F1 score: 0.9730\n",
      "- Precision: 0.9737\n",
      "- Recall: 0.9535\n",
      "- Roc Auc Score: 0.9691\n",
      "----------------------------------\n",
      "Model performance for Test set\n",
      "- Accuracy: 0.8806\n",
      "- F1 score: 0.8796\n",
      "- Precision: 0.8615\n",
      "- Recall: 0.8036\n",
      "- Roc Auc Score: 0.8644\n",
      "===================================\n",
      "\n",
      "\n",
      "CatBoost Classifer\n",
      "Model performance for Training set\n",
      "- Accuracy: 0.9936\n",
      "- F1 score: 0.9936\n",
      "- Precision: 0.9932\n",
      "- Recall: 0.9897\n",
      "- Roc Auc Score: 0.9928\n",
      "----------------------------------\n",
      "Model performance for Test set\n",
      "- Accuracy: 0.8815\n",
      "- F1 score: 0.8808\n",
      "- Precision: 0.8571\n",
      "- Recall: 0.8124\n",
      "- Roc Auc Score: 0.8670\n",
      "===================================\n",
      "\n",
      "\n"
     ]
    }
   ],
   "source": [
    "from sklearn.metrics import roc_auc_score, roc_curve\n",
    "\n",
    "models = {\n",
    "    \"Random Forest\": RandomForestClassifier(n_estimators= 1000, min_samples_split= 2, max_features= 8, max_depth=None),\n",
    "    \"K-Neighbors Classifer\": KNeighborsClassifier(n_neighbors= 10),\n",
    "    \"XGBClassifier\": XGBClassifier(n_estimators= 300, max_depth= 12, learning_rate= 0.1, colsample_bytree= 0.4, n_jobs= -1),\n",
    "    \"CatBoost Classifer\": CatBoostClassifier(max_depth= 12, learning_rate= 0.1, verbose=False)\n",
    "}\n",
    "\n",
    "for i in range(len(list(models))):\n",
    "    model = list(models.values())[i]\n",
    "    model.fit(X_train, y_train) # Again train the model\n",
    "    \n",
    "    # make predictions\n",
    "    y_train_pred = model.predict(X_train)\n",
    "    y_test_pred = model.predict(X_test)\n",
    "    \n",
    "    # Training set performance\n",
    "    model_train_accuracy = accuracy_score(y_train, y_train_pred) # Calculate Accuracy\n",
    "    model_train_f1 = f1_score(y_train, y_train_pred, average='weighted') # Calculate F1-score\n",
    "    model_train_precision = precision_score(y_train, y_train_pred) # Calculate Precision\n",
    "    model_train_recall = recall_score(y_train, y_train_pred) # Calculate Recall\n",
    "    model_train_rocauc_score = roc_auc_score(y_train, y_train_pred)\n",
    "\n",
    "    # Test set performance\n",
    "    model_test_accuracy = accuracy_score(y_test, y_test_pred) # Calculate Accuracy\n",
    "    model_test_f1 = f1_score(y_test, y_test_pred, average='weighted') # Calculate F1-score\n",
    "    model_test_precision = precision_score(y_test, y_test_pred) # Calculate Precision\n",
    "    model_test_recall = recall_score(y_test, y_test_pred) # Calculate Recall\n",
    "    model_test_rocauc_score = roc_auc_score(y_test, y_test_pred) #Calculate Roc\n",
    "\n",
    "\n",
    "\n",
    "    print(list(models.keys())[i])\n",
    "   \n",
    "    print('Model performance for Training set')\n",
    "    print(\"- Accuracy: {:.4f}\".format(model_train_accuracy))\n",
    "    print('- F1 score: {:.4f}'.format(model_train_f1))\n",
    "    print('- Precision: {:.4f}'.format(model_train_precision))\n",
    "    print('- Recall: {:.4f}'.format(model_train_recall))\n",
    "    print('- Roc Auc Score: {:.4f}'.format(model_train_rocauc_score))\n",
    "    \n",
    "    print('----------------------------------')\n",
    "    \n",
    "    print('Model performance for Test set')\n",
    "    print('- Accuracy: {:.4f}'.format(model_test_accuracy))\n",
    "    print('- F1 score: {:.4f}'.format(model_test_f1))\n",
    "    print('- Precision: {:.4f}'.format(model_test_precision))\n",
    "    print('- Recall: {:.4f}'.format(model_test_recall))\n",
    "    print('- Roc Auc Score: {:.4f}'.format(model_test_rocauc_score))\n",
    "    \n",
    "    print('='*35)\n",
    "    print('\\n')"
   ]
  },
  {
   "cell_type": "code",
   "execution_count": 49,
   "id": "b55aed75",
   "metadata": {},
   "outputs": [
    {
     "data": {
      "image/png": "[encoded data removed]",
      "text/plain": [
       "<Figure size 640x480 with 1 Axes>"
      ]
     },
     "metadata": {},
     "output_type": "display_data"
    }
   ],
   "source": [
    "from sklearn.metrics import roc_auc_score, roc_curve\n",
    "plt.figure()\n",
    "\n",
    "# Add the models to the list that you want to view on the ROC plot\n",
    "auc_model = [\n",
    "    {\n",
    "        'label' : 'Random Forest',\n",
    "        'model' : RandomForestClassifier(n_estimators= 1000, min_samples_split= 2, max_features= 8, max_depth=None),\n",
    "        'auc'   : 0.8674\n",
    "    },\n",
    "    {\n",
    "        'label' : 'K-Neighbors Classifer',\n",
    "        'model' : KNeighborsClassifier(n_neighbors= 10),\n",
    "        'auc'   : 0.8082\n",
    "    },\n",
    "    {\n",
    "       'label' : 'XGBClassifier',\n",
    "       'model' :  XGBClassifier(n_estimators= 300, max_depth= 12, learning_rate= 0.1, colsample_bytree= 0.4, n_jobs= -1),\n",
    "        'auc'  : 0.8644\n",
    "    },\n",
    "    {\n",
    "        'label' : 'CatBoost Classifer',\n",
    "        'model' : CatBoostClassifier(max_depth= 12, learning_rate= 0.1, verbose=False),\n",
    "        'auc'   : 0.8670\n",
    "    }\n",
    "]\n",
    "\n",
    "# Below for loop iterates through your model list\n",
    "\n",
    "for m in auc_model:\n",
    "    model = m['model'] # select the model\n",
    "    model.fit(X_train, y_train) # train your model\n",
    "# Compute False postive rate, and True positive rate\n",
    "    fpr, tpr, thresholds = roc_curve(y_test, model.predict_proba(X_test)[:,1])\n",
    "# Calculate Area under the curve to display on the plot\n",
    "# Now, plot the computed values\n",
    "    plt.plot(fpr, tpr, label='%s ROC (area = %0.2f)' % (m['label'], m['auc']))\n",
    "# Custom settings for the plot \n",
    "plt.plot([0, 1], [0, 1],'r--')\n",
    "plt.xlim([0.0, 1.0])\n",
    "plt.ylim([0.0, 1.05])\n",
    "plt.xlabel('1-Specificity(False Positive Rate)')\n",
    "plt.ylabel('Sensitivity(True Positive Rate)')\n",
    "plt.title('Receiver Operating Characteristic')\n",
    "plt.legend(loc=\"lower right\")\n",
    "plt.savefig('auc.png')\n",
    "plt.show()   # Display"
   ]
  },
  {
   "cell_type": "markdown",
   "id": "addc87a5",
   "metadata": {},
   "source": [
    "### Feature Selection for Model Deployment\n"
   ]
  },
  {
   "cell_type": "code",
   "execution_count": 50,
   "id": "d62db31f",
   "metadata": {},
   "outputs": [
    {
     "name": "stdout",
     "output_type": "stream",
     "text": [
      "FINAL XGB\n",
      "Accuracy Score value: 0.8806\n",
      "              precision    recall  f1-score   support\n",
      "\n",
      "           0       0.89      0.93      0.91     18870\n",
      "           1       0.86      0.80      0.83     10932\n",
      "\n",
      "    accuracy                           0.88     29802\n",
      "   macro avg       0.88      0.86      0.87     29802\n",
      "weighted avg       0.88      0.88      0.88     29802\n",
      "\n"
     ]
    }
   ],
   "source": [
    "best_xgb = XGBClassifier(n_estimators= 300, max_depth= 12, learning_rate= 0.1, colsample_bytree= 0.4, n_jobs=-1)\n",
    "best_xgb = best_xgb.fit(X_train,y_train)\n",
    "xgb_pred = best_xgb.predict(X_test)\n",
    "score = accuracy_score(y_test,xgb_pred)\n",
    "cr = classification_report(y_test,xgb_pred)\n",
    "\n",
    "print(\"FINAL XGB\")\n",
    "print (\"Accuracy Score value: {:.4f}\".format(score))\n",
    "print (cr)"
   ]
  },
  {
   "cell_type": "code",
   "execution_count": 51,
   "id": "871e37d7",
   "metadata": {},
   "outputs": [
    {
     "data": {
      "text/plain": [
       "<sklearn.metrics._plot.confusion_matrix.ConfusionMatrixDisplay at 0x2a6b3d2dd20>"
      ]
     },
     "execution_count": 51,
     "metadata": {},
     "output_type": "execute_result"
    },
    {
     "data": {
      "image/png": "[encoded data removed]",
      "text/plain": [
       "<Figure size 640x480 with 2 Axes>"
      ]
     },
     "metadata": {},
     "output_type": "display_data"
    }
   ],
   "source": [
    "from sklearn.metrics import ConfusionMatrixDisplay\n",
    "ConfusionMatrixDisplay.from_estimator(best_xgb, X_test, y_test)"
   ]
  },
  {
   "cell_type": "code",
   "execution_count": 52,
   "id": "8a590b09",
   "metadata": {},
   "outputs": [],
   "source": [
    "import pickle\n",
    " \n",
    "# Save the trained model as a pickle file.\n",
    "pickle.dump(best_xgb, open('classificationmodel.pkl', 'wb'))"
   ]
  },
  {
   "cell_type": "code",
   "execution_count": null,
   "id": "ec196ed9",
   "metadata": {},
   "outputs": [],
   "source": []
  }
 ],
 "metadata": {
  "kernelspec": {
   "display_name": "Python 3 (ipykernel)",
   "language": "python",
   "name": "python3"
  },
  "language_info": {
   "codemirror_mode": {
    "name": "ipython",
    "version": 3
   },
   "file_extension": ".py",
   "mimetype": "text/x-python",
   "name": "python",
   "nbconvert_exporter": "python",
   "pygments_lexer": "ipython3",
   "version": "3.10.9"
  }
 },
 "nbformat": 4,
 "nbformat_minor": 5
}
